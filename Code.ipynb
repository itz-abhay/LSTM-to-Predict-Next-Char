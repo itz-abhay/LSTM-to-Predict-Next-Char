{
 "cells": [
  {
   "cell_type": "markdown",
   "metadata": {},
   "source": [
    "**Getting the Data from Site**"
   ]
  },
  {
   "cell_type": "code",
   "execution_count": 27,
   "metadata": {},
   "outputs": [],
   "source": [
    "import urllib3\n",
    "\n",
    "# Create a PoolManager instance\n",
    "http = urllib3.PoolManager()\n",
    "\n",
    "# Specify the URL you want to request\n",
    "url = \"https://www.gutenberg.org/cache/epub/11/pg11-images.html\" #link to the Book\n",
    "url_2 = \"https://www.gutenberg.org/cache/epub/11/pg11.txt\" #Link of plain text of the above mentioned book\n",
    "\n",
    "# Send an HTTP GET request\n",
    "Data = http.request(\"GET\", url_2)\n",
    "\n",
    "# Read and print the response content\n",
    "Data = Data.data.decode('utf-8')\n"
   ]
  },
  {
   "cell_type": "code",
   "execution_count": 28,
   "metadata": {},
   "outputs": [
    {
     "name": "stdout",
     "output_type": "stream",
     "text": [
      "Total Characters:  167711\n",
      "Total Vocab:  66\n"
     ]
    }
   ],
   "source": [
    "import numpy as np\n",
    "\n",
    "# load ascii text and covert to lowercase\n",
    "raw_text = Data\n",
    "raw_text = raw_text.lower()\n",
    "\n",
    "# create mapping of unique chars to integers\n",
    "chars = sorted(list(set(raw_text)))\n",
    "char_to_int = dict((c, i) for i, c in enumerate(chars))\n",
    "\n",
    "# summarize the loaded data\n",
    "n_chars = len(raw_text)\n",
    "n_vocab = len(chars)\n",
    "print(\"Total Characters: \", n_chars)\n",
    "print(\"Total Vocab: \", n_vocab)"
   ]
  }
 ],
 "metadata": {
  "kernelspec": {
   "display_name": "iiscWorkspace",
   "language": "python",
   "name": "python3"
  },
  "language_info": {
   "codemirror_mode": {
    "name": "ipython",
    "version": 3
   },
   "file_extension": ".py",
   "mimetype": "text/x-python",
   "name": "python",
   "nbconvert_exporter": "python",
   "pygments_lexer": "ipython3",
   "version": "3.10.9"
  },
  "orig_nbformat": 4
 },
 "nbformat": 4,
 "nbformat_minor": 2
}
